{
  "nbformat": 4,
  "nbformat_minor": 0,
  "metadata": {
    "colab": {
      "name": "Algoritmo de Escrita Inconsistente.ipynb",
      "provenance": [],
      "collapsed_sections": []
    },
    "kernelspec": {
      "name": "python3",
      "display_name": "Python 3"
    },
    "language_info": {
      "name": "python"
    }
  },
  "cells": [
    {
      "cell_type": "markdown",
      "source": [
        "### Descrição de atividade"
      ],
      "metadata": {
        "id": "0HTrxrHLG3gq"
      }
    },
    {
      "cell_type": "markdown",
      "source": [
        "**Escrita da palavra a partir de uma imagem:** <br><br>\n",
        "Nessa questão, o estudante precisa nomear a imagem apresentada. Além do nome esperado (palavra\n",
        "exata), também serão aceitas outras nomeações atribuídas à imagem, ou seja, que pertençam ao mesmo\n",
        "campo semântico. Dessa forma, a primeira sinalização referente à resposta do estudante será a relação da\n",
        "imagem com a escrita produzida por ele:<br><br>\n",
        "Relação com a imagem: <br><br>\n",
        "**PALAVRA EXATA:** Sinalize essa opção quando o estudante escrever exatamente a palavra solicitada, em conformidade\n",
        "com a imagem. Aqui, serão considerados, também, os regionalismos/variações dialetais. <br><br>\n",
        "**CAMPO SEMANTICO:** Sinalize essa opção quando o estudante escrever uma palavra dentro do campo semântico suscitado\n",
        "pela imagem."
      ],
      "metadata": {
        "id": "RLE-WXwWGMxb"
      }
    },
    {
      "cell_type": "markdown",
      "source": [
        "## Avaliação da Ortografia"
      ],
      "metadata": {
        "id": "OedTYmnrMlBR"
      }
    },
    {
      "cell_type": "markdown",
      "source": [
        "**GUIA DO MEC PARA CORREÇÕES:** <br><br>\n",
        "\n",
        "Uma vez registrada a situação de correção e a relação com a imagem, proceda à avaliação da ortografia\n",
        "do estudante, enquadrando-a em um dos 5 (cinco) níveis a seguir:<br><br>\n",
        "\n",
        "**ORTOGRÁFICO:** O estudante escreveu a palavra corretamente, configurando uma escrita em nível ortográfico. <br>\n",
        "Exemplos: Espada, Relógio, Leite, Fez, Gaveta, Gato, Casa.<br>\n",
        "**ALFABETICO:** O estudante escreveu a palavra com desvios, configurando uma escrita em nível alfabético.<br>\n",
        "Exemplos: Izpada (Espada), Relogo (Relógio), Leiti (Leite), Feiz (Fez).<br>\n",
        "**SILÁBICO-ALFABÉTICO:** O estudante escreveu a palavra com desvios, configurando uma escrita em nível silábico-alfabético.<br>\n",
        "Exemplos: Gavta (Gaveta), Icov (Escova), Cadra (Cadeira), Reogo (Relógio).<br>\n",
        "**SILABICO:** O estudante escreveu a palavra com desvios, configurando uma escrita em nível silábico. Nesse caso, a escrita\n",
        "apresentada compromete a leitura, não sendo possível sua compreensão sem conhecer a imagem. Contudo, a\n",
        "escrita produzida pelo estudante apresenta relação com a pauta sonora das letras que compõem a palavra.<br>\n",
        "Exemplos: Aea (Gaveta), Gvt (Gaveta), Ioa (Escova), Kda (Cadeira), Eoo (Relógio).<br>\n",
        "**PRÉ-SILÁBICO:** O estudante produziu escrita em nível pré-silábico (apresentou letras aleatórias para representar a palavra,\n",
        "desenhos/garatujas) E/OU grafou outra palavra que não guarda estreita relação com a imagem (provavelmente\n",
        "reproduzida de memória).<br>\n",
        "Exemplos: Pbvayo (Gato), Okpil (Casa).\n"
      ],
      "metadata": {
        "id": "hXmmGCcXM_i2"
      }
    },
    {
      "cell_type": "code",
      "source": [
        "! pip install pyspellchecker\n",
        "! pip install unidecode\n",
        "! pip install python-Levenshtein\n",
        "import unidecode\n",
        "import Levenshtein as lev\n",
        "from spellchecker import SpellChecker"
      ],
      "metadata": {
        "id": "5YzA9ZZb6h4k"
      },
      "execution_count": null,
      "outputs": []
    },
    {
      "cell_type": "markdown",
      "source": [
        "Configurando o SpellChecker para o tipo de erros sugeridos"
      ],
      "metadata": {
        "id": "3_6RFYJOQcny"
      }
    },
    {
      "cell_type": "code",
      "source": [
        "from spellchecker import SpellChecker\n",
        "corretor_pt = SpellChecker(language='pt', distance=5) "
      ],
      "metadata": {
        "id": "OPA8IbnFryKX"
      },
      "execution_count": 2,
      "outputs": []
    },
    {
      "cell_type": "markdown",
      "source": [
        "Erros do nível Alfabético"
      ],
      "metadata": {
        "id": "UPMTnlW_RhLm"
      }
    },
    {
      "cell_type": "markdown",
      "source": [
        "Usando método **candidates**, com distancia=5, erros do nível alfabetico conseguem ser corrigidos para a palavra correta. Isto é, um tipo de erro detectável pelo SpellChecker e conseguiria delimitar o tipo de erro:\n",
        "- Todas as palavras incorretas possíveis de serem corrigidas para palavra correta com esse método, seriam consideradas erros de nível alfabético"
      ],
      "metadata": {
        "id": "WaVRMkBniQgG"
      }
    },
    {
      "cell_type": "code",
      "source": [
        "palavra_correta = 'espada'\n",
        "palavra = 'Izpada'\n",
        "\n",
        "candidatos = corretor_pt.candidates(palavra) \n",
        "if palavra_correta in candidatos:\n",
        "  print('Consegue Corrigir')"
      ],
      "metadata": {
        "colab": {
          "base_uri": "https://localhost:8080/"
        },
        "id": "tElRMUujQ2y6",
        "outputId": "7034696c-6de3-4eaa-c140-adf7bcf5576d"
      },
      "execution_count": 3,
      "outputs": [
        {
          "output_type": "stream",
          "name": "stdout",
          "text": [
            "Consegue Corrigir\n"
          ]
        }
      ]
    },
    {
      "cell_type": "code",
      "source": [
        "palavra_correta = 'relogio'\n",
        "palavra = 'Relogo'\n",
        "\n",
        "candidatos = corretor_pt.candidates(palavra) \n",
        "candidatos\n",
        "if palavra_correta in candidatos:\n",
        "  print('Consegue Corrigir')"
      ],
      "metadata": {
        "colab": {
          "base_uri": "https://localhost:8080/"
        },
        "id": "Qf9PVvonQ4sw",
        "outputId": "5d533f00-49f3-459a-ef34-84d248af2d69"
      },
      "execution_count": 4,
      "outputs": [
        {
          "output_type": "stream",
          "name": "stdout",
          "text": [
            "Consegue Corrigir\n"
          ]
        }
      ]
    },
    {
      "cell_type": "code",
      "source": [
        "palavra_correta = 'leite'\n",
        "palavra = 'Leiti'\n",
        "\n",
        "candidatos = corretor_pt.candidates(palavra) \n",
        "if palavra_correta in candidatos:\n",
        "  print('Consegue Corrigir')"
      ],
      "metadata": {
        "colab": {
          "base_uri": "https://localhost:8080/"
        },
        "id": "7dZnaE3GRF35",
        "outputId": "67efccd5-9d49-4448-aecb-3476ebec7f1a"
      },
      "execution_count": 5,
      "outputs": [
        {
          "output_type": "stream",
          "name": "stdout",
          "text": [
            "Consegue Corrigir\n"
          ]
        }
      ]
    },
    {
      "cell_type": "code",
      "source": [
        "palavra_correta = 'fez'\n",
        "palavra = 'Feiz'\n",
        "\n",
        "candidatos = corretor_pt.candidates(palavra) \n",
        "if palavra_correta in candidatos:\n",
        "  print('Consegue Corrigir')"
      ],
      "metadata": {
        "colab": {
          "base_uri": "https://localhost:8080/"
        },
        "id": "NrKXNAq7RTGB",
        "outputId": "f72ce22d-99c6-4fe9-cd7f-9e53fd84ac42"
      },
      "execution_count": 6,
      "outputs": [
        {
          "output_type": "stream",
          "name": "stdout",
          "text": [
            "Consegue Corrigir\n"
          ]
        }
      ]
    },
    {
      "cell_type": "markdown",
      "source": [
        "Erros do nível Silábico-Alfabetico"
      ],
      "metadata": {
        "id": "UWhatbVBRl4G"
      }
    },
    {
      "cell_type": "markdown",
      "source": [
        "Usando o mesmo método acima, apenas um dos erros conseguiu ser corrigido para palavra certa, enquanto outros 3 não conseguiram. Isso cria um delimitador entre erros Silábico-Alfabeticos e erros Alfabéticos, embora ainda não seja pefeito..."
      ],
      "metadata": {
        "id": "V81ud7hcjUfp"
      }
    },
    {
      "cell_type": "code",
      "source": [
        "palavra_correta = 'gaveta'\n",
        "palavra = 'Gavta'\n",
        "\n",
        "candidatos = corretor_pt.candidates(palavra) \n",
        "if palavra_correta in candidatos:\n",
        "  print('Consegue Corrigir')\n",
        "else:\n",
        "  print('Não consegue corrigir')"
      ],
      "metadata": {
        "colab": {
          "base_uri": "https://localhost:8080/"
        },
        "id": "4Bqh0CMYRWLW",
        "outputId": "7622d9b7-3908-4929-a3f0-2b1bcc597f6c"
      },
      "execution_count": 7,
      "outputs": [
        {
          "output_type": "stream",
          "name": "stdout",
          "text": [
            "Consegue Corrigir\n"
          ]
        }
      ]
    },
    {
      "cell_type": "code",
      "source": [
        "palavra_correta = 'escova'\n",
        "palavra = 'Icov'\n",
        "\n",
        "candidatos = corretor_pt.candidates(palavra) \n",
        "if palavra_correta in candidatos:\n",
        "  print('Consegue Corrigir')\n",
        "else:\n",
        "  print('Não consegue corrigir')"
      ],
      "metadata": {
        "colab": {
          "base_uri": "https://localhost:8080/"
        },
        "id": "zYSZ8ORzRs84",
        "outputId": "7b2934fe-f286-42cb-92a6-37ec6aacb6d1"
      },
      "execution_count": 8,
      "outputs": [
        {
          "output_type": "stream",
          "name": "stdout",
          "text": [
            "Não consegue corrigir\n"
          ]
        }
      ]
    },
    {
      "cell_type": "code",
      "source": [
        "palavra_correta = 'cadeira'\n",
        "palavra = 'Cadra'\n",
        "\n",
        "candidatos = corretor_pt.candidates(palavra) \n",
        "if palavra_correta in candidatos:\n",
        "  print('Consegue Corrigir')\n",
        "else:\n",
        "  print('Não consegue corrigir')"
      ],
      "metadata": {
        "colab": {
          "base_uri": "https://localhost:8080/"
        },
        "id": "3vmY_6HJRthx",
        "outputId": "32ef40e8-cebc-4573-f829-2c036a90e5da"
      },
      "execution_count": 9,
      "outputs": [
        {
          "output_type": "stream",
          "name": "stdout",
          "text": [
            "Não consegue corrigir\n"
          ]
        }
      ]
    },
    {
      "cell_type": "code",
      "source": [
        "palavra_correta = 'relogio'\n",
        "palavra = 'Reogo'\n",
        "\n",
        "candidatos = corretor_pt.candidates(palavra) \n",
        "if palavra_correta in candidatos:\n",
        "  print('Consegue Corrigir')\n",
        "else:\n",
        "  print('Não consegue corrigir')"
      ],
      "metadata": {
        "colab": {
          "base_uri": "https://localhost:8080/"
        },
        "id": "5pKVUG4qRuO_",
        "outputId": "b0d44e24-b33e-4984-8fa3-be4fbe2fd79b"
      },
      "execution_count": 10,
      "outputs": [
        {
          "output_type": "stream",
          "name": "stdout",
          "text": [
            "Não consegue corrigir\n"
          ]
        }
      ]
    },
    {
      "cell_type": "markdown",
      "source": [
        "No entanto, há outro método do SpellChecker que utiliza-se da distancia de Levenshtein (distante em 1 ou 2 caracteres) para fazer as correções.<br>\n",
        "Nesse caso, ele consegue corrigir duas das três palavras que não conseguiram ser corrigidas pelo método anterior, além de conseguir corrigir a palavra incorreta que o candidates já havia corrigido:"
      ],
      "metadata": {
        "id": "vulXwqE8j4Rr"
      }
    },
    {
      "cell_type": "code",
      "source": [
        "palavra_correta = 'gaveta'\n",
        "palavra = 'Gavta'\n",
        "\n",
        "distante2 = corretor_pt.edit_distance_2(palavra)\n",
        "if palavra_correta in distante2:\n",
        "  print('Consegue Corrigir')\n",
        "else:\n",
        "  print('Não consegue corrigir')"
      ],
      "metadata": {
        "colab": {
          "base_uri": "https://localhost:8080/"
        },
        "id": "3WQoAqz0krwo",
        "outputId": "5defcaf7-3fcf-4123-9f92-3e61b5519474"
      },
      "execution_count": 11,
      "outputs": [
        {
          "output_type": "stream",
          "name": "stdout",
          "text": [
            "Consegue Corrigir\n"
          ]
        }
      ]
    },
    {
      "cell_type": "code",
      "source": [
        "palavra_correta = 'escova'\n",
        "palavra = 'Icov'\n",
        "distante2 = corretor_pt.edit_distance_2(palavra) \n",
        "if palavra_correta in distante2:\n",
        "  print('Consegue Corrigir')\n",
        "else:\n",
        "  print('Não consegue corrigir')"
      ],
      "metadata": {
        "colab": {
          "base_uri": "https://localhost:8080/"
        },
        "id": "F-sw9qFJV_Ny",
        "outputId": "b4d97445-22ea-4f12-f92d-a0eb4f594da9"
      },
      "execution_count": 12,
      "outputs": [
        {
          "output_type": "stream",
          "name": "stdout",
          "text": [
            "Não consegue corrigir\n"
          ]
        }
      ]
    },
    {
      "cell_type": "code",
      "source": [
        "palavra_correta = 'cadeira'\n",
        "palavra = 'Cadra'\n",
        "distante2 = corretor_pt.edit_distance_2(palavra)\n",
        "if palavra_correta in distante2:\n",
        "  print('Consegue Corrigir')\n",
        "else:\n",
        "  print('Não consegue corrigir')"
      ],
      "metadata": {
        "colab": {
          "base_uri": "https://localhost:8080/"
        },
        "id": "2vWfMBVQVyMJ",
        "outputId": "4bce635c-b8a7-42a4-9748-2d92e1c74f73"
      },
      "execution_count": 13,
      "outputs": [
        {
          "output_type": "stream",
          "name": "stdout",
          "text": [
            "Consegue Corrigir\n"
          ]
        }
      ]
    },
    {
      "cell_type": "code",
      "source": [
        "palavra_correta = 'relogio'\n",
        "palavra = 'Reogo'\n",
        "distante2 = corretor_pt.edit_distance_2(palavra)\n",
        "if palavra_correta in distante2:\n",
        "  print('Consegue Corrigir')\n",
        "else:\n",
        "  print('Não consegue corrigir')"
      ],
      "metadata": {
        "colab": {
          "base_uri": "https://localhost:8080/"
        },
        "id": "mHhWqj9jSJog",
        "outputId": "0c5a3f63-9342-491d-e8d1-6289fb483669"
      },
      "execution_count": 14,
      "outputs": [
        {
          "output_type": "stream",
          "name": "stdout",
          "text": [
            "Consegue Corrigir\n"
          ]
        }
      ]
    },
    {
      "cell_type": "markdown",
      "source": [
        "Erros do nível Silábico"
      ],
      "metadata": {
        "id": "3KUwCnX4UP25"
      }
    },
    {
      "cell_type": "markdown",
      "source": [
        "Os métodos anteriores do SpellChecker não conseguem corrigir esse tipo de erro:"
      ],
      "metadata": {
        "id": "m1hn7YH5mK7K"
      }
    },
    {
      "cell_type": "code",
      "source": [
        "palavra_correta = 'gaveta'\n",
        "palavra = 'gvt'\n",
        "\n",
        "distante2 = corretor_pt.edit_distance_2(palavra)\n",
        "if palavra_correta in distante2:\n",
        "  print('Consegue Corrigir')\n",
        "else:\n",
        "  print('Não consegue corrigir')"
      ],
      "metadata": {
        "colab": {
          "base_uri": "https://localhost:8080/"
        },
        "id": "UvYh5bT_UTQK",
        "outputId": "3288d8ab-b736-41f7-fa93-d818bd47246f"
      },
      "execution_count": 15,
      "outputs": [
        {
          "output_type": "stream",
          "name": "stdout",
          "text": [
            "Não consegue corrigir\n"
          ]
        }
      ]
    },
    {
      "cell_type": "code",
      "source": [
        "palavra_correta = 'gaveta'\n",
        "palavra = 'Aea'\n",
        "\n",
        "distante2 = corretor_pt.edit_distance_2(palavra)\n",
        "if palavra_correta in distante2:\n",
        "  print('Consegue Corrigir')\n",
        "else:\n",
        "  print('Não consegue corrigir')"
      ],
      "metadata": {
        "colab": {
          "base_uri": "https://localhost:8080/"
        },
        "id": "deW9TBOHgGbM",
        "outputId": "9d38acec-2b54-4502-9a0e-b368131f3561"
      },
      "execution_count": 16,
      "outputs": [
        {
          "output_type": "stream",
          "name": "stdout",
          "text": [
            "Não consegue corrigir\n"
          ]
        }
      ]
    },
    {
      "cell_type": "code",
      "source": [
        "palavra_correta = 'escova'\n",
        "palavra = 'Ioa'\n",
        "\n",
        "distante2 = corretor_pt.edit_distance_2(palavra)\n",
        "if palavra_correta in distante2:\n",
        "  print('Consegue Corrigir')\n",
        "else:\n",
        "  print('Não consegue corrigir')"
      ],
      "metadata": {
        "colab": {
          "base_uri": "https://localhost:8080/"
        },
        "id": "WRcA4SvRluzC",
        "outputId": "b7fe7626-5e0c-4e75-a2e3-269081cb5c41"
      },
      "execution_count": 17,
      "outputs": [
        {
          "output_type": "stream",
          "name": "stdout",
          "text": [
            "Não consegue corrigir\n"
          ]
        }
      ]
    },
    {
      "cell_type": "code",
      "source": [
        "palavra_correta = 'cadeira'\n",
        "palavra = 'Kda'\n",
        "\n",
        "distante2 = corretor_pt.edit_distance_2(palavra)\n",
        "if palavra_correta in distante2:\n",
        "  print('Consegue Corrigir')\n",
        "else:\n",
        "  print('Não consegue corrigir')"
      ],
      "metadata": {
        "colab": {
          "base_uri": "https://localhost:8080/"
        },
        "id": "bORYjVfYlwjC",
        "outputId": "0bf00127-e7dc-49a6-ba29-040d47c1ce29"
      },
      "execution_count": 18,
      "outputs": [
        {
          "output_type": "stream",
          "name": "stdout",
          "text": [
            "Não consegue corrigir\n"
          ]
        }
      ]
    },
    {
      "cell_type": "code",
      "source": [
        "palavra_correta = 'relogio'\n",
        "palavra = 'Eoo'\n",
        "\n",
        "distante2 = corretor_pt.edit_distance_2(palavra)\n",
        "if palavra_correta in distante2:\n",
        "  print('Consegue Corrigir')\n",
        "else:\n",
        "  print('Não consegue corrigir')"
      ],
      "metadata": {
        "colab": {
          "base_uri": "https://localhost:8080/"
        },
        "id": "Ymvy8TAulxcT",
        "outputId": "1880118e-f413-41ad-d700-5316bddd81bf"
      },
      "execution_count": 19,
      "outputs": [
        {
          "output_type": "stream",
          "name": "stdout",
          "text": [
            "Não consegue corrigir\n"
          ]
        }
      ]
    },
    {
      "cell_type": "markdown",
      "source": [
        "Isso é bom porque criar um limiar entre os tipos de erros, mas impõe um desafio de como corrigí-los sem o uso do SpellChecker. Ou usando métodos alternativos antes de usar o SpellChecker"
      ],
      "metadata": {
        "id": "Q_RRsCEXmfRF"
      }
    },
    {
      "cell_type": "code",
      "source": [
        "def removeVogais(palavra):\n",
        "      palavra = palavra.replace(\"a\",\"\")\n",
        "      palavra = palavra.replace(\"e\",\"\")\n",
        "      palavra = palavra.replace(\"i\",\"\")\n",
        "      palavra = palavra.replace(\"o\",\"\")\n",
        "      palavra = palavra.replace(\"u\",\"\")\n",
        "      return palavra\n",
        "\n",
        "\n",
        "def removeConsoantes(palavra):\n",
        "        vogais= ['a','e','i','o','u']\n",
        "        palavra_modificada = ''\n",
        "        for char in palavra:\n",
        "            if char in vogais:\n",
        "                palavra_modificada += char\n",
        "        return palavra_modificada\n",
        "\n",
        "\n",
        "def detectar_silabico(palavra_correta, palavra_incorreta):\n",
        "  palavra_correta = palavra_correta.lower().strip()\n",
        "  palavra_incorreta = palavra_incorreta.lower().strip()\n",
        "\n",
        "  pal_sem_con = removeConsoantes(palavra_correta)\n",
        "  pal_sem_vog = removeVogais(palavra_correta)\n",
        "\n",
        "  if palavra_incorreta in corretor_pt.edit_distance_2(pal_sem_con) or palavra_incorreta in corretor_pt.edit_distance_2(pal_sem_vog):\n",
        "    return 'Nivel Silabico'"
      ],
      "metadata": {
        "id": "Rks9RBWQnXyg"
      },
      "execution_count": 20,
      "outputs": []
    },
    {
      "cell_type": "code",
      "source": [
        "removeConsoantes('relogio')"
      ],
      "metadata": {
        "colab": {
          "base_uri": "https://localhost:8080/",
          "height": 35
        },
        "id": "d8RCJvj5okOb",
        "outputId": "3e8cab6b-49b3-4f31-e04a-31a75cbe84cd"
      },
      "execution_count": 21,
      "outputs": [
        {
          "output_type": "execute_result",
          "data": {
            "application/vnd.google.colaboratory.intrinsic+json": {
              "type": "string"
            },
            "text/plain": [
              "'eoio'"
            ]
          },
          "metadata": {},
          "execution_count": 21
        }
      ]
    },
    {
      "cell_type": "code",
      "source": [
        "removeVogais('Gaveta')"
      ],
      "metadata": {
        "colab": {
          "base_uri": "https://localhost:8080/",
          "height": 35
        },
        "id": "Nf4uVvkYxleb",
        "outputId": "718ae060-92c0-4bb4-832d-327efad44d59"
      },
      "execution_count": 22,
      "outputs": [
        {
          "output_type": "execute_result",
          "data": {
            "application/vnd.google.colaboratory.intrinsic+json": {
              "type": "string"
            },
            "text/plain": [
              "'Gvt'"
            ]
          },
          "metadata": {},
          "execution_count": 22
        }
      ]
    },
    {
      "cell_type": "code",
      "source": [
        "removeConsoantes('Gaveta')"
      ],
      "metadata": {
        "colab": {
          "base_uri": "https://localhost:8080/",
          "height": 35
        },
        "id": "w2Ogg5T7xrOA",
        "outputId": "8137a075-27eb-4c70-ccad-d0c784d365a1"
      },
      "execution_count": 23,
      "outputs": [
        {
          "output_type": "execute_result",
          "data": {
            "application/vnd.google.colaboratory.intrinsic+json": {
              "type": "string"
            },
            "text/plain": [
              "'aea'"
            ]
          },
          "metadata": {},
          "execution_count": 23
        }
      ]
    },
    {
      "cell_type": "code",
      "source": [
        "ex_correto = 'Gaveta'\n",
        "ex_incorreto = 'Aea'\n",
        "\n",
        "detectar_silabico(ex_correto, ex_incorreto)"
      ],
      "metadata": {
        "colab": {
          "base_uri": "https://localhost:8080/",
          "height": 35
        },
        "id": "L80E85U4qEai",
        "outputId": "c3e888c9-f3f4-496d-e67c-7b3e1e28af54"
      },
      "execution_count": 24,
      "outputs": [
        {
          "output_type": "execute_result",
          "data": {
            "application/vnd.google.colaboratory.intrinsic+json": {
              "type": "string"
            },
            "text/plain": [
              "'Nivel Silabico'"
            ]
          },
          "metadata": {},
          "execution_count": 24
        }
      ]
    },
    {
      "cell_type": "code",
      "source": [
        "ex_correto = 'Gaveta'\n",
        "ex_incorreto = 'Gvt'\n",
        "\n",
        "detectar_silabico(ex_correto, ex_incorreto)"
      ],
      "metadata": {
        "colab": {
          "base_uri": "https://localhost:8080/",
          "height": 35
        },
        "id": "MvdQ4-Mvul2O",
        "outputId": "9fbdc53d-2588-44be-b554-86e7c86eadf2"
      },
      "execution_count": 25,
      "outputs": [
        {
          "output_type": "execute_result",
          "data": {
            "application/vnd.google.colaboratory.intrinsic+json": {
              "type": "string"
            },
            "text/plain": [
              "'Nivel Silabico'"
            ]
          },
          "metadata": {},
          "execution_count": 25
        }
      ]
    },
    {
      "cell_type": "code",
      "source": [
        "ex_correto = 'Escova'\n",
        "ex_incorreto = 'Ioa'\n",
        "\n",
        "detectar_silabico(ex_correto, ex_incorreto)"
      ],
      "metadata": {
        "colab": {
          "base_uri": "https://localhost:8080/",
          "height": 35
        },
        "id": "kSPjDRQsumqC",
        "outputId": "3d0172f2-2e09-4418-966f-bbc6bb65b01c"
      },
      "execution_count": 26,
      "outputs": [
        {
          "output_type": "execute_result",
          "data": {
            "application/vnd.google.colaboratory.intrinsic+json": {
              "type": "string"
            },
            "text/plain": [
              "'Nivel Silabico'"
            ]
          },
          "metadata": {},
          "execution_count": 26
        }
      ]
    },
    {
      "cell_type": "code",
      "source": [
        "ex_correto = 'Gaveta'\n",
        "ex_incorreto = 'Aea'\n",
        "\n",
        "detectar_silabico(ex_correto, ex_incorreto)"
      ],
      "metadata": {
        "colab": {
          "base_uri": "https://localhost:8080/",
          "height": 35
        },
        "id": "11u3Q3d2uncu",
        "outputId": "1fbf8ae8-834f-47ff-dd22-34b5329e4572"
      },
      "execution_count": 27,
      "outputs": [
        {
          "output_type": "execute_result",
          "data": {
            "application/vnd.google.colaboratory.intrinsic+json": {
              "type": "string"
            },
            "text/plain": [
              "'Nivel Silabico'"
            ]
          },
          "metadata": {},
          "execution_count": 27
        }
      ]
    },
    {
      "cell_type": "code",
      "source": [
        "ex_correto = 'Cadeira'\n",
        "ex_incorreto = 'Kda'\n",
        "\n",
        "detectar_silabico(ex_correto, ex_incorreto)"
      ],
      "metadata": {
        "colab": {
          "base_uri": "https://localhost:8080/",
          "height": 35
        },
        "id": "6MOTqsS7uoEQ",
        "outputId": "9c76c98d-0e49-4cd1-db20-8c885d4a9c1a"
      },
      "execution_count": 28,
      "outputs": [
        {
          "output_type": "execute_result",
          "data": {
            "application/vnd.google.colaboratory.intrinsic+json": {
              "type": "string"
            },
            "text/plain": [
              "'Nivel Silabico'"
            ]
          },
          "metadata": {},
          "execution_count": 28
        }
      ]
    },
    {
      "cell_type": "code",
      "source": [
        "ex_correto = 'Relogio'\n",
        "ex_incorreto = 'Eoo'\n",
        "\n",
        "detectar_silabico(ex_correto, ex_incorreto)"
      ],
      "metadata": {
        "colab": {
          "base_uri": "https://localhost:8080/",
          "height": 35
        },
        "id": "CEwoU9DPuo1a",
        "outputId": "f4a5ea53-73a5-4f2c-81f6-fc5de9f97b17"
      },
      "execution_count": 29,
      "outputs": [
        {
          "output_type": "execute_result",
          "data": {
            "application/vnd.google.colaboratory.intrinsic+json": {
              "type": "string"
            },
            "text/plain": [
              "'Nivel Silabico'"
            ]
          },
          "metadata": {},
          "execution_count": 29
        }
      ]
    },
    {
      "cell_type": "markdown",
      "source": [
        "Pbvayo (Gato), Okpil (Casa)."
      ],
      "metadata": {
        "id": "9P0qAPoL4fRt"
      }
    },
    {
      "cell_type": "code",
      "source": [
        "lev.distance('Okpil', 'Casa')"
      ],
      "metadata": {
        "colab": {
          "base_uri": "https://localhost:8080/"
        },
        "id": "diOuDzsA4Hsg",
        "outputId": "9638faa8-a4ee-4416-8b00-a24284aa35e5"
      },
      "execution_count": 30,
      "outputs": [
        {
          "output_type": "execute_result",
          "data": {
            "text/plain": [
              "5"
            ]
          },
          "metadata": {},
          "execution_count": 30
        }
      ]
    },
    {
      "cell_type": "code",
      "source": [
        "class Avaliacao_Ortografica():\n",
        "  def __init__(self):\n",
        "      self.corretor = SpellChecker(language='pt', distance=5)\n",
        "      self.lev_dist = lev.distance\n",
        "      self.normalizar = unidecode.unidecode\n",
        "\n",
        "  def palavras_avaliadas(self, palavra_correta, palavra_incorreta):\n",
        "      self.palavra_correta = self.normalizar(palavra_correta.lower().strip())\n",
        "      self.palavra_incorreta = self.normalizar(palavra_incorreta.lower().strip())\n",
        "\n",
        "\n",
        "  def removeVogais(self):\n",
        "      palavra = self.palavra_correta\n",
        "      palavra = palavra.replace(\"a\",\"\")\n",
        "      palavra = palavra.replace(\"e\",\"\")\n",
        "      palavra = palavra.replace(\"i\",\"\")\n",
        "      palavra = palavra.replace(\"o\",\"\")\n",
        "      palavra = palavra.replace(\"u\",\"\")\n",
        "      return palavra\n",
        "  \n",
        "  def removeConsoantes(self):\n",
        "      palavra = self.palavra_correta\n",
        "      vogais= ['a','e','i','o','u']\n",
        "      palavra_modificada = ''\n",
        "      for char in palavra:\n",
        "          if char in vogais:\n",
        "              palavra_modificada += char\n",
        "      return palavra_modificada\n",
        "\n",
        "\n",
        "  def avaliar(self):\n",
        "      if self.lev_dist(self.palavra_correta, self.palavra_incorreta) == 0:\n",
        "        return 'Nível Ortográfico'\n",
        "      else:\n",
        "        candidatos = self.corretor.candidates(self.palavra_incorreta) \n",
        "        if self.palavra_correta in candidatos:\n",
        "          return 'Nível Alfabético'\n",
        "        else:\n",
        "            distante2 = self.corretor.edit_distance_2(self.palavra_incorreta)\n",
        "            if self.palavra_correta in distante2:\n",
        "              return 'Nivel Silábico-Alfabético'\n",
        "            elif not self.palavra_correta in distante2:\n",
        "              pal_sem_con = self.removeConsoantes()\n",
        "              pal_sem_vog = self.removeVogais()\n",
        "              if self.palavra_incorreta in self.corretor.edit_distance_2(pal_sem_con) or self.palavra_incorreta in self.corretor.edit_distance_2(pal_sem_vog):\n",
        "                return 'Nivel Silabico'\n",
        "              else:\n",
        "                 #self.lev_dist(self.palavra_correta, self.palavra_incorreta) >= 4:\n",
        "                return 'Nível Pré-Silábico'\n"
      ],
      "metadata": {
        "id": "Fs3AtnBWvOQY"
      },
      "execution_count": 31,
      "outputs": []
    },
    {
      "cell_type": "code",
      "source": [
        "avaliador = Avaliacao_Ortografica()"
      ],
      "metadata": {
        "id": "q2l4pFOB40xH"
      },
      "execution_count": 32,
      "outputs": []
    },
    {
      "cell_type": "markdown",
      "source": [
        "ORTOGRÁFICO:<br>\n",
        "Exemplos: Espada, Relógio, Leite, Fez, Gaveta, Gato, Casa.<br>\n",
        "ALFABETICO:<br>\n",
        "Exemplos: Izpada (Espada), Relogo (Relógio), Leiti (Leite), Feiz (Fez).<br>\n",
        "SILÁBICO-ALFABÉTICO: <br>\n",
        "Exemplos: Gavta (Gaveta), Icov (Escova), Cadra (Cadeira), Reogo (Relógio).<br>\n",
        "SILABICO:<br>\n",
        "Exemplos: Aea (Gaveta), Gvt (Gaveta), Ioa (Escova), Kda (Cadeira), Eoo (Relógio).<br>\n",
        "PRÉ-SILÁBICO:<br>\n",
        "Exemplos: Pbvayo (Gato), Okpil (Casa)."
      ],
      "metadata": {
        "id": "KmXYDRlLEAl2"
      }
    },
    {
      "cell_type": "code",
      "source": [
        "avaliador.palavras_avaliadas('Gaveta', 'Aea')"
      ],
      "metadata": {
        "id": "wLL-aekz5M8L"
      },
      "execution_count": 33,
      "outputs": []
    },
    {
      "cell_type": "code",
      "source": [
        "avaliador.avaliar()"
      ],
      "metadata": {
        "colab": {
          "base_uri": "https://localhost:8080/",
          "height": 35
        },
        "id": "s7m_3tpW5wjm",
        "outputId": "19e71821-15d9-46d6-8267-6c73ae1e569b"
      },
      "execution_count": 34,
      "outputs": [
        {
          "output_type": "execute_result",
          "data": {
            "application/vnd.google.colaboratory.intrinsic+json": {
              "type": "string"
            },
            "text/plain": [
              "'Nivel Silabico'"
            ]
          },
          "metadata": {},
          "execution_count": 34
        }
      ]
    },
    {
      "cell_type": "markdown",
      "source": [
        "##Diminutivos, aumentativos e plurais, assim como variações dialetais e de gênero, serão aceitos, desde que estejam dicionarizados."
      ],
      "metadata": {
        "id": "XzVl3B_88wr4"
      }
    },
    {
      "cell_type": "markdown",
      "source": [
        "### FastText"
      ],
      "metadata": {
        "id": "mx3J3XVomyVX"
      }
    },
    {
      "cell_type": "code",
      "source": [
        "! pip install fasttext"
      ],
      "metadata": {
        "id": "RvOFaFD1y8Wa"
      },
      "execution_count": null,
      "outputs": []
    },
    {
      "cell_type": "markdown",
      "source": [
        "Aumentativos"
      ],
      "metadata": {
        "id": "HQN9tKHk1ctX"
      }
    },
    {
      "cell_type": "code",
      "source": [
        "from scipy import spatial\n",
        "import fasttext"
      ],
      "metadata": {
        "id": "LQA7zMDQ1RYx"
      },
      "execution_count": 40,
      "outputs": []
    },
    {
      "cell_type": "code",
      "source": [
        "model = fasttext.load_model('/content/drive/MyDrive/compreensao_textual/fast-text/wiki.pt.50.bin')"
      ],
      "metadata": {
        "colab": {
          "base_uri": "https://localhost:8080/"
        },
        "id": "6dNAG1kd4H5N",
        "outputId": "4d6f5490-aa5d-47fb-ac77-13210b17e4e3"
      },
      "execution_count": 42,
      "outputs": [
        {
          "output_type": "stream",
          "name": "stderr",
          "text": [
            "Warning : `load_model` does not return WordVectorModel or SupervisedModel any more, but a `FastText` object which is very similar.\n"
          ]
        }
      ]
    },
    {
      "cell_type": "code",
      "source": [
        "model.get_nearest_neighbors(\"janela\")"
      ],
      "metadata": {
        "colab": {
          "base_uri": "https://localhost:8080/"
        },
        "outputId": "a7f69f50-cb5c-4e44-d277-a1bd7b9e1507",
        "id": "eI4T7p2H4j3g"
      },
      "execution_count": 43,
      "outputs": [
        {
          "output_type": "execute_result",
          "data": {
            "text/plain": [
              "[(0.8406611680984497, 'gaveta'),\n",
              " (0.8280715346336365, 'janela/aba'),\n",
              " (0.828044593334198, 'fechadura'),\n",
              " (0.8167588114738464, 'tela'),\n",
              " (0.7960363030433655, 'varanda'),\n",
              " (0.7942725419998169, 'ecrã'),\n",
              " (0.7942558526992798, 'abre'),\n",
              " (0.7916820049285889, 'porta'),\n",
              " (0.7825326919555664, 'escada'),\n",
              " (0.781963050365448, 'desliza')]"
            ]
          },
          "metadata": {},
          "execution_count": 43
        }
      ]
    },
    {
      "cell_type": "code",
      "source": [
        "model.get_nearest_neighbors(\"bicicleta\")"
      ],
      "metadata": {
        "colab": {
          "base_uri": "https://localhost:8080/"
        },
        "outputId": "a5b4403c-d5cd-4e74-8cf3-0b4e4c19ba2c",
        "id": "SLUsZnIp4j3h"
      },
      "execution_count": 44,
      "outputs": [
        {
          "output_type": "execute_result",
          "data": {
            "text/plain": [
              "[(0.9021471738815308, 'bicicletar'),\n",
              " (0.8928345441818237, 'bicicleta»'),\n",
              " (0.8624576926231384, 'bicicletada'),\n",
              " (0.836133599281311, 'pedalar'),\n",
              " (0.83130943775177, 'carrinho'),\n",
              " (0.8305637836456299, 'patinete'),\n",
              " (0.8186779022216797, 'pedalando'),\n",
              " (0.7977595925331116, 'biciclette'),\n",
              " (0.7967626452445984, 'rinque'),\n",
              " (0.7951245307922363, 'pedalava')]"
            ]
          },
          "metadata": {},
          "execution_count": 44
        }
      ]
    },
    {
      "cell_type": "code",
      "source": [
        "model.get_nearest_neighbors(\"relogio\")"
      ],
      "metadata": {
        "colab": {
          "base_uri": "https://localhost:8080/"
        },
        "outputId": "baff1f6a-e398-46eb-f661-e616b9d2cebe",
        "id": "pLiRZ-Ba4j3i"
      },
      "execution_count": 45,
      "outputs": [
        {
          "output_type": "execute_result",
          "data": {
            "text/plain": [
              "[(0.8163164258003235, 'relogios'),\n",
              " (0.7503740191459656, 'relógio'),\n",
              " (0.7361060976982117, 'pag'),\n",
              " (0.7262083292007446, 'cabrio'),\n",
              " (0.7163081169128418, 'contrarelógio'),\n",
              " (0.715022623538971, 'parafrente'),\n",
              " (0.7023250460624695, 'testo'),\n",
              " (0.6984378695487976, 'cronómetro'),\n",
              " (0.6970639824867249, 'apostilha'),\n",
              " (0.6953148245811462, 'capc')]"
            ]
          },
          "metadata": {},
          "execution_count": 45
        }
      ]
    },
    {
      "cell_type": "code",
      "source": [
        "model.get_nearest_neighbors(\"cadeira\")"
      ],
      "metadata": {
        "colab": {
          "base_uri": "https://localhost:8080/"
        },
        "outputId": "87225a30-bf5e-48bf-e82a-147f0458e77d",
        "id": "qEWWEr5v4j3i"
      },
      "execution_count": 46,
      "outputs": [
        {
          "output_type": "execute_result",
          "data": {
            "text/plain": [
              "[(0.746637761592865, 'emcadeira'),\n",
              " (0.7393130660057068, 'diplomado'),\n",
              " (0.7373373508453369, 'diplomando'),\n",
              " (0.7304256558418274, 'cadeirado'),\n",
              " (0.7266631722450256, 'cadeirada'),\n",
              " (0.7213938236236572, 'cadeiras'),\n",
              " (0.7130558490753174, 'sentou'),\n",
              " (0.7083898186683655, 'cadeirão'),\n",
              " (0.7066147923469543, 'ingressando'),\n",
              " (0.7049827575683594, 'cátedra')]"
            ]
          },
          "metadata": {},
          "execution_count": 46
        }
      ]
    },
    {
      "cell_type": "markdown",
      "source": [
        "Aumentativos"
      ],
      "metadata": {
        "id": "MpKI8s8P4j3l"
      }
    },
    {
      "cell_type": "code",
      "source": [
        "v1 = model.get_word_vector(\"janela\")\n",
        "v2 = model.get_word_vector(\"janelão\")\n",
        "1 - spatial.distance.cosine(v1, v2)"
      ],
      "metadata": {
        "colab": {
          "base_uri": "https://localhost:8080/"
        },
        "outputId": "98e36bd6-6209-4bde-db2c-b293e2b527fa",
        "id": "FuJlCCCp4j3l"
      },
      "execution_count": 47,
      "outputs": [
        {
          "output_type": "execute_result",
          "data": {
            "text/plain": [
              "0.7671107053756714"
            ]
          },
          "metadata": {},
          "execution_count": 47
        }
      ]
    },
    {
      "cell_type": "code",
      "source": [
        "v1 = model.get_word_vector(\"relogio\")\n",
        "v2 = model.get_word_vector(\"relojão\")\n",
        "1 - spatial.distance.cosine(v1, v2)"
      ],
      "metadata": {
        "colab": {
          "base_uri": "https://localhost:8080/"
        },
        "outputId": "ba56d972-9d92-4bc2-cde1-2615e82654be",
        "id": "bj9JQz594j3l"
      },
      "execution_count": 48,
      "outputs": [
        {
          "output_type": "execute_result",
          "data": {
            "text/plain": [
              "0.6091152429580688"
            ]
          },
          "metadata": {},
          "execution_count": 48
        }
      ]
    },
    {
      "cell_type": "code",
      "source": [
        "v1 = model.get_word_vector(\"cadeira\")\n",
        "v2 = model.get_word_vector(\"cadeirão\")\n",
        "1 - spatial.distance.cosine(v1, v2)"
      ],
      "metadata": {
        "colab": {
          "base_uri": "https://localhost:8080/"
        },
        "outputId": "554f1a47-e4ea-4013-bfc6-fdda164e4baa",
        "id": "l8ZOge0M4j3l"
      },
      "execution_count": 49,
      "outputs": [
        {
          "output_type": "execute_result",
          "data": {
            "text/plain": [
              "0.7083898782730103"
            ]
          },
          "metadata": {},
          "execution_count": 49
        }
      ]
    },
    {
      "cell_type": "markdown",
      "source": [
        "Diminutivos"
      ],
      "metadata": {
        "id": "7vQ_NxKV4j3l"
      }
    },
    {
      "cell_type": "code",
      "source": [
        "v1 = model.get_word_vector(\"janela\")\n",
        "v2 = model.get_word_vector(\"janelinha\")\n",
        "1 - spatial.distance.cosine(v1, v2)"
      ],
      "metadata": {
        "colab": {
          "base_uri": "https://localhost:8080/"
        },
        "outputId": "0b111472-cc3d-4c32-df25-89fe8fd4f569",
        "id": "qsOyfyIp4j3m"
      },
      "execution_count": 50,
      "outputs": [
        {
          "output_type": "execute_result",
          "data": {
            "text/plain": [
              "0.6562733054161072"
            ]
          },
          "metadata": {},
          "execution_count": 50
        }
      ]
    },
    {
      "cell_type": "code",
      "source": [
        "v1 = model.get_word_vector(\"cadeira\")\n",
        "v2 = model.get_word_vector(\"cadeirinha\")\n",
        "1 - spatial.distance.cosine(v1, v2)"
      ],
      "metadata": {
        "colab": {
          "base_uri": "https://localhost:8080/"
        },
        "outputId": "4973a75c-9e0f-4cf1-f7d2-c089492edbb5",
        "id": "TnIdrjYz4j3m"
      },
      "execution_count": 51,
      "outputs": [
        {
          "output_type": "execute_result",
          "data": {
            "text/plain": [
              "0.6472181081771851"
            ]
          },
          "metadata": {},
          "execution_count": 51
        }
      ]
    },
    {
      "cell_type": "code",
      "source": [
        "v1 = model.get_word_vector(\"bicicleta\")\n",
        "v2 = model.get_word_vector(\"bicicletinha\")\n",
        "1 - spatial.distance.cosine(v1, v2)"
      ],
      "metadata": {
        "colab": {
          "base_uri": "https://localhost:8080/"
        },
        "outputId": "93832db5-d902-4317-bed2-797b80f129c6",
        "id": "iY5-X1Sp4j3m"
      },
      "execution_count": 52,
      "outputs": [
        {
          "output_type": "execute_result",
          "data": {
            "text/plain": [
              "0.7960493564605713"
            ]
          },
          "metadata": {},
          "execution_count": 52
        }
      ]
    },
    {
      "cell_type": "markdown",
      "source": [
        "Variações dialetais"
      ],
      "metadata": {
        "id": "x-emqcJo4j3m"
      }
    },
    {
      "cell_type": "code",
      "source": [
        "v1 = model.get_word_vector(\"bicicleta\")\n",
        "v2 = model.get_word_vector(\"bike\")\n",
        "1 - spatial.distance.cosine(v1, v2)"
      ],
      "metadata": {
        "colab": {
          "base_uri": "https://localhost:8080/"
        },
        "outputId": "23497c25-29c3-41d2-c4bb-2bc4ce64d7bf",
        "id": "ngWGQXJ34j3m"
      },
      "execution_count": 53,
      "outputs": [
        {
          "output_type": "execute_result",
          "data": {
            "text/plain": [
              "0.5999067425727844"
            ]
          },
          "metadata": {},
          "execution_count": 53
        }
      ]
    },
    {
      "cell_type": "code",
      "source": [
        "v1 = model.get_word_vector(\"biscoito\")\n",
        "v2 = model.get_word_vector(\"bolacha\")\n",
        "1 - spatial.distance.cosine(v1, v2)"
      ],
      "metadata": {
        "colab": {
          "base_uri": "https://localhost:8080/"
        },
        "outputId": "25a47812-e5c3-43ab-8674-e8cc8906f7c7",
        "id": "AQLx9ut84j3m"
      },
      "execution_count": 54,
      "outputs": [
        {
          "output_type": "execute_result",
          "data": {
            "text/plain": [
              "0.8781958222389221"
            ]
          },
          "metadata": {},
          "execution_count": 54
        }
      ]
    },
    {
      "cell_type": "code",
      "source": [
        "v1 = model.get_word_vector(\"macaxeira\")\n",
        "v2 = model.get_word_vector(\"aipim\")\n",
        "1 - spatial.distance.cosine(v1, v2)"
      ],
      "metadata": {
        "colab": {
          "base_uri": "https://localhost:8080/"
        },
        "outputId": "9db789d7-a2f7-445a-8bd1-97e12b2baf0d",
        "id": "vzjO6Th64j3n"
      },
      "execution_count": 55,
      "outputs": [
        {
          "output_type": "execute_result",
          "data": {
            "text/plain": [
              "0.8332914710044861"
            ]
          },
          "metadata": {},
          "execution_count": 55
        }
      ]
    },
    {
      "cell_type": "code",
      "source": [
        "v1 = model.get_word_vector(\"percentagem\")\n",
        "v2 = model.get_word_vector(\"porcentagem\")\n",
        "1 - spatial.distance.cosine(v1, v2)"
      ],
      "metadata": {
        "colab": {
          "base_uri": "https://localhost:8080/"
        },
        "outputId": "7b95f895-5882-46b7-9614-f55fb139b319",
        "id": "OLChBX6y4j3n"
      },
      "execution_count": 56,
      "outputs": [
        {
          "output_type": "execute_result",
          "data": {
            "text/plain": [
              "0.9089022278785706"
            ]
          },
          "metadata": {},
          "execution_count": 56
        }
      ]
    },
    {
      "cell_type": "code",
      "source": [
        "v1 = model.get_word_vector(\"catorze\")\n",
        "v2 = model.get_word_vector(\"quatorze\")\n",
        "1 - spatial.distance.cosine(v1, v2)"
      ],
      "metadata": {
        "colab": {
          "base_uri": "https://localhost:8080/"
        },
        "outputId": "3b8b61ce-4620-4783-e537-07e99e07bf65",
        "id": "k5ScB0d14j3n"
      },
      "execution_count": 57,
      "outputs": [
        {
          "output_type": "execute_result",
          "data": {
            "text/plain": [
              "0.9008710980415344"
            ]
          },
          "metadata": {},
          "execution_count": 57
        }
      ]
    },
    {
      "cell_type": "markdown",
      "source": [
        "Tempo de Carregamento"
      ],
      "metadata": {
        "id": "REkRZDNIngAr"
      }
    },
    {
      "cell_type": "code",
      "source": [
        "%%time \n",
        "import fasttext\n",
        "ft = fasttext.load_model('/content/drive/MyDrive/compreensao_textual/fast-text/wiki.pt.50.bin')"
      ],
      "metadata": {
        "colab": {
          "base_uri": "https://localhost:8080/"
        },
        "id": "OcYsxhcY5RyG",
        "outputId": "026b04d4-ac60-4457-e44b-c0011e38ee68"
      },
      "execution_count": 58,
      "outputs": [
        {
          "output_type": "stream",
          "name": "stderr",
          "text": [
            "Warning : `load_model` does not return WordVectorModel or SupervisedModel any more, but a `FastText` object which is very similar.\n"
          ]
        },
        {
          "output_type": "stream",
          "name": "stdout",
          "text": [
            "CPU times: user 865 ms, sys: 731 ms, total: 1.6 s\n",
            "Wall time: 2.22 s\n"
          ]
        }
      ]
    },
    {
      "cell_type": "markdown",
      "source": [
        "## Algoritmo de Escrita Inconsistente"
      ],
      "metadata": {
        "id": "-U2Zs74459G8"
      }
    },
    {
      "cell_type": "code",
      "source": [
        "%%time \n",
        "ft = fasttext.load_model('/content/drive/MyDrive/compreensao_textual/fast-text/wiki.pt.50.bin')"
      ],
      "metadata": {
        "id": "BLlGyCpMxhA7",
        "colab": {
          "base_uri": "https://localhost:8080/"
        },
        "outputId": "7ee488a3-dc52-4ab8-a1e8-eb5bfb5ad289"
      },
      "execution_count": 59,
      "outputs": [
        {
          "output_type": "stream",
          "name": "stderr",
          "text": [
            "Warning : `load_model` does not return WordVectorModel or SupervisedModel any more, but a `FastText` object which is very similar.\n"
          ]
        },
        {
          "output_type": "stream",
          "name": "stdout",
          "text": [
            "CPU times: user 846 ms, sys: 750 ms, total: 1.6 s\n",
            "Wall time: 2.18 s\n"
          ]
        }
      ]
    },
    {
      "cell_type": "markdown",
      "source": [
        "Exemplos para Testes"
      ],
      "metadata": {
        "id": "K2Nfapp1oQbQ"
      }
    },
    {
      "cell_type": "code",
      "source": [
        "janela = {'Palavra Exata': 'janela',\n",
        "          'Campo Semantico Sugerido': ['Báscula', 'Vidraça', 'Venesiana'],\n",
        "          }\n",
        "\n",
        "bicicleta = {'Palavra Exata': 'bicicleta',\n",
        "          'Campo Semantico Sugerido': ['bike', 'velocípede', 'pedal'],\n",
        "          }\n",
        "\n",
        "relogio = {'Palavra Exata': 'relógio',\n",
        "          'Campo Semantico Sugerido': ['horas', 'tempo', 'despertador'],\n",
        "          }\n",
        "\n",
        "cadeira = {'Palavra Exata': 'cadeira',\n",
        "          'Campo Semantico Sugerido': ['madeira', 'assento', 'banco'],\n",
        "          }"
      ],
      "metadata": {
        "id": "TZGa663SAAjT"
      },
      "execution_count": 60,
      "outputs": []
    },
    {
      "cell_type": "code",
      "source": [
        "# similaridade por cosseno entre duas palavras\n",
        "def cos_sim(palavra_al, palavra_im, model=ft):\n",
        "  v1 = model.get_word_vector(palavra_al)\n",
        "  v2 = model.get_word_vector(palavra_im)\n",
        "  return 1 - spatial.distance.cosine(v1, v2)\n",
        "\n",
        "cossim = cos_sim\n",
        "lev_rt = lev.ratio # proporcao de similaridade entre duas palavras\n",
        "lev_dist = lev.distance #numero de caracteres que diferem/distanciam as palavras\n",
        "corretor_pt = SpellChecker(language='pt', distance=5)"
      ],
      "metadata": {
        "id": "acLp5AiFBIMS"
      },
      "execution_count": 61,
      "outputs": []
    },
    {
      "cell_type": "markdown",
      "source": [
        "Algoritmo Escrita Inconsistente"
      ],
      "metadata": {
        "id": "oqg26lyoyQpV"
      }
    },
    {
      "cell_type": "code",
      "source": [
        "def escrita_inconsistente(input_aluno, exemplo=janela):\n",
        "  palavras_aluno = {}\n",
        "  palavra_img = unidecode.unidecode(exemplo['Palavra Exata']).lower().strip()\n",
        "  campo_semantico = [unidecode.unidecode(ps).lower().strip() for ps in exemplo['Campo Semantico Sugerido']]\n",
        "  avaliador = Avaliacao_Ortografica()\n",
        "\n",
        "  for pal_aluno in input_aluno.split():\n",
        "\n",
        "    palavras_aluno[pal_aluno] = {}\n",
        "    palavra_aluno = unidecode.unidecode(pal_aluno).lower().strip()\n",
        "\n",
        "\n",
        "    # 1. Detecta se escreveu palavra exata:\n",
        "    if lev_dist(palavra_img, palavra_aluno) == 0:\n",
        "      avaliador.palavras_avaliadas(palavra_img, palavra_aluno)\n",
        "      palavras_aluno[pal_aluno]['desvio_score'] = 0\n",
        "      palavras_aluno[pal_aluno]['return'] = f'Escreveu a palavra exata! {palavra_img}.\\nCorretor Ortográfico: {avaliador.avaliar()}'\n",
        "    else:\n",
        "    # 2. Detecta se consta no campo semantico sugerido:\n",
        "      if palavra_aluno in campo_semantico:\n",
        "        avaliador.palavras_avaliadas(palavra_aluno, palavra_aluno)\n",
        "        palavras_aluno[pal_aluno]['desvio_score'] = 1\n",
        "        palavras_aluno[pal_aluno]['return'] = f'Escreveu uma palavra no mesmo campo semantico. A palavra exata seria {palavra_img}.\\nCorretor Ortográfico: {avaliador.avaliar()}'\n",
        "    # 3. Detecta se ha similaridade semantica ou se ha variedade de genero, dialetal, diminutivos, etc\n",
        "      elif cossim(palavra_img, palavra_aluno) > 0.60: # limiar para similaridade semantica\n",
        "        avaliador.palavras_avaliadas(palavra_aluno, palavra_aluno)\n",
        "        palavras_aluno[pal_aluno]['desvio_score'] = 2 - cossim(palavra_img, palavra_aluno)\n",
        "        palavras_aluno[pal_aluno]['return'] = f'Escreveu uma palavra semanticamente semelhante ou uma variação da palavra exata. A palavra exata seria {palavra_img}.\\nCorretor Ortográfico: {avaliador.avaliar()}'\n",
        "  \n",
        "      else:       \n",
        "        # Se houve erro ortografico:\n",
        "        candidatos = corretor_pt.candidates(palavra_aluno) \n",
        "        candidatos_campo_semantico = [ps for ps in campo_semantico if ps in candidatos]\n",
        "        variacoes = [word for similaridade, word in ft.get_nearest_neighbors(\"relogio\")]\n",
        "        candidatos_variacoes = [pv for pv in variacoes if pv in candidatos]\n",
        "        # 1. Tenta Corrigir com SpellChecker e retornar palavra corrigida com nivel ortografico\n",
        "        avaliador.palavras_avaliadas(palavra_img, palavra_aluno)\n",
        "        if palavra_img in candidatos:\n",
        "          palavras_aluno[pal_aluno]['desvio_score'] = 3\n",
        "          palavras_aluno[pal_aluno]['return'] = f'Escreveu a palavra correta, {palavra_img}, mas com erro(s) ortográfico(s).\\nCorretor Ortográfico: {avaliador.avaliar()}'\n",
        "        # 2. Checar se palavra corriga esta no campo semantico com nivel ortografico\n",
        "        elif len(candidatos_campo_semantico) > 0:\n",
        "          pal_cp = candidatos_campo_semantico[0]\n",
        "          avaliador.palavras_avaliadas(pal_cp, palavra_aluno)\n",
        "          palavras_aluno[pal_aluno]['desvio_score'] = 4\n",
        "          palavras_aluno[pal_aluno]['return'] = f'Escreveu uma palavra no mesmo campo semantico, mas com erro(s) ortográfico(s).\\nCorretor Ortográfico: {avaliador.avaliar()}'\n",
        "        # 3. Checar se palavra consta no campo semantico aumentado + variacoes\n",
        "        elif len(candidatos_variacoes) > 0:\n",
        "          pal_va = candidatos_variacoes[0]\n",
        "          avaliador.palavras_avaliadas(pal_va, palavra_aluno)\n",
        "          palavras_aluno[pal_aluno]['desvio_score'] = 4\n",
        "          palavras_aluno[pal_aluno]['return'] = f'Escreveu uma palavra semanticamente semelhante ou uma variação da palavra exata, mas com erro(s) ortográfico(s).\\nCorretor Ortográfico: {avaliador.avaliar()}'\n",
        "        # 4. Se a palavra incorreta nao conseguiu correcao, informar apenas erro ortografico com nivel\n",
        "        elif avaliador.avaliar() == 'Nivel Silabico' or avaliador.avaliar() == 'Nivel Silábico-Alfabético':\n",
        "          avaliador.palavras_avaliadas(palavra_img, palavra_aluno)\n",
        "          palavras_aluno[pal_aluno]['desvio_score'] = 5\n",
        "          palavras_aluno[pal_aluno]['return'] = f'Palavra incorreta. A palavra exata é {palavra_img}.\\nCorretor Ortográfico: {avaliador.avaliar()}'\n",
        "        else:\n",
        "          palavra_corr = corretor_pt.correction(palavra_aluno)\n",
        "          avaliador.palavras_avaliadas(palavra_corr, palavra_aluno)\n",
        "          palavras_aluno[pal_aluno]['desvio_score'] = 6\n",
        "          palavras_aluno[pal_aluno]['return'] = f'Palavra incorreta. A palavra exata é {palavra_img}.'\n",
        "\n",
        "  ordem_menos_desvios = sorted(palavras_aluno.items(), key=lambda x: x[1]['desvio_score'])\n",
        "  menos_devios = ordem_menos_desvios[0][1]\n",
        "  return print(menos_devios['return'])\n"
      ],
      "metadata": {
        "id": "c41ksnsf57Mf"
      },
      "execution_count": 62,
      "outputs": []
    },
    {
      "cell_type": "code",
      "source": [
        "%%time\n",
        "input_aluno = 'reogo'\n",
        "escrita_inconsistente(input_aluno, exemplo=relogio)"
      ],
      "metadata": {
        "colab": {
          "base_uri": "https://localhost:8080/"
        },
        "id": "fi1Fj8LGKySH",
        "outputId": "dfc06b8a-9b55-43ba-81fe-47059ab90882"
      },
      "execution_count": 64,
      "outputs": [
        {
          "output_type": "stream",
          "name": "stdout",
          "text": [
            "Palavra incorreta. A palavra exata é relogio.\n",
            "Corretor Ortográfico: Nivel Silábico-Alfabético\n",
            "CPU times: user 579 ms, sys: 33.8 ms, total: 613 ms\n",
            "Wall time: 737 ms\n"
          ]
        }
      ]
    },
    {
      "cell_type": "markdown",
      "source": [
        "ORTOGRÁFICO:<br>\n",
        "Exemplos: Espada, Relógio, Leite, Fez, Gaveta, Gato, Casa.<br>\n",
        "ALFABETICO:<br>\n",
        "Exemplos: Izpada (Espada), Relogo (Relógio), Leiti (Leite), Feiz (Fez).<br>\n",
        "SILÁBICO-ALFABÉTICO: <br>\n",
        "Exemplos: Gavta (Gaveta), Icov (Escova), Cadra (Cadeira), Reogo (Relógio).<br>\n",
        "SILABICO:<br>\n",
        "Exemplos: Aea (Gaveta), Gvt (Gaveta), Ioa (Escova), Kda (Cadeira), Eoo (Relógio).<br>\n",
        "PRÉ-SILÁBICO:<br>\n",
        "Exemplos: Pbvayo (Gato), Okpil (Casa)."
      ],
      "metadata": {
        "id": "sC1x-XVCXgnV"
      }
    }
  ]
}